{
 "cells": [
  {
   "cell_type": "code",
   "execution_count": 5,
   "id": "8e6dc229-1c7a-4b67-8b49-fef12cc3c90c",
   "metadata": {},
   "outputs": [],
   "source": [
    "my_name= \"turan\""
   ]
  },
  {
   "cell_type": "code",
   "execution_count": 9,
   "id": "00de7222-b616-44dc-9aaa-c49790b12002",
   "metadata": {},
   "outputs": [
    {
     "data": {
      "text/plain": [
       "'Turan'"
      ]
     },
     "execution_count": 9,
     "metadata": {},
     "output_type": "execute_result"
    }
   ],
   "source": [
    "my_name.capitalize()"
   ]
  },
  {
   "cell_type": "markdown",
   "id": "465efc0a-c10f-46bd-8c93-7011ea7c189c",
   "metadata": {},
   "source": [
    "Değişken içerisindeki stringin baş harfini büyütmek için \"capitalize\" kullanılır.."
   ]
  },
  {
   "cell_type": "code",
   "execution_count": 34,
   "id": "ba6e2624-eb97-42fb-ba6a-7ae13a793780",
   "metadata": {},
   "outputs": [],
   "source": [
    "my_name_capitalize=my_name.capitalize()"
   ]
  },
  {
   "cell_type": "code",
   "execution_count": 36,
   "id": "23e7d2a1-1288-4adf-ad70-d20e63f0896c",
   "metadata": {},
   "outputs": [
    {
     "data": {
      "text/plain": [
       "'Turan'"
      ]
     },
     "execution_count": 36,
     "metadata": {},
     "output_type": "execute_result"
    }
   ],
   "source": [
    "my_name_capitalize"
   ]
  },
  {
   "cell_type": "markdown",
   "id": "fd8d4753-1c65-4f61-a8ae-ad75cdc5e9de",
   "metadata": {},
   "source": [
    "\".\" kaldırırsak string Tamamen büyük olur..\n"
   ]
  },
  {
   "cell_type": "code",
   "execution_count": 39,
   "id": "016d8cfe-a5d1-45a8-9445-67ebd41372f7",
   "metadata": {},
   "outputs": [],
   "source": [
    "my_name=\"Turan İyidiker\""
   ]
  },
  {
   "cell_type": "code",
   "execution_count": 43,
   "id": "4100609a-3f4a-43ab-9749-d38d6ac77c30",
   "metadata": {},
   "outputs": [
    {
     "data": {
      "text/plain": [
       "['Turan', 'İyidiker']"
      ]
     },
     "execution_count": 43,
     "metadata": {},
     "output_type": "execute_result"
    }
   ],
   "source": [
    "my_name.split()"
   ]
  },
  {
   "cell_type": "markdown",
   "id": "880b73fa-24b8-4bee-8430-b94cc3c26f98",
   "metadata": {},
   "source": [
    "Değişen İçerisindeki stringi ayırmak için \"split\" kullanılır.."
   ]
  },
  {
   "cell_type": "code",
   "execution_count": 46,
   "id": "470b38c8-0a28-4d43-890a-b930dab98ead",
   "metadata": {},
   "outputs": [],
   "source": [
    "my_name_split = my_name.split()"
   ]
  },
  {
   "cell_type": "code",
   "execution_count": 48,
   "id": "37a6b083-9af8-4242-8687-c998d0b4b664",
   "metadata": {},
   "outputs": [
    {
     "data": {
      "text/plain": [
       "['Turan', 'İyidiker']"
      ]
     },
     "execution_count": 48,
     "metadata": {},
     "output_type": "execute_result"
    }
   ],
   "source": [
    "my_name_split"
   ]
  },
  {
   "cell_type": "markdown",
   "id": "c68864dc-f03f-4fdf-ba46-abf0f41da012",
   "metadata": {},
   "source": [
    "\".\" kaldırırsak stringi kalıcı şekilde ayırır.."
   ]
  },
  {
   "cell_type": "code",
   "execution_count": 61,
   "id": "b62bf146-8c70-4d0d-96bb-1354a0e32b90",
   "metadata": {},
   "outputs": [
    {
     "data": {
      "text/plain": [
       "['Turanİyidiker']"
      ]
     },
     "execution_count": 61,
     "metadata": {},
     "output_type": "execute_result"
    }
   ],
   "source": [
    "my_name = \"Turan\"\n",
    "my_surname = \"İyidiker\"\n",
    "my_fulname = my_name + my_surname\n",
    "my_fulname.split()"
   ]
  },
  {
   "cell_type": "markdown",
   "id": "f5a3efcb-8ca8-4cd3-b9b1-ef07e0d8cbd5",
   "metadata": {},
   "source": [
    "Stringleri aralarında bu şekilde toplayabiliriz...           "
   ]
  }
 ],
 "metadata": {
  "kernelspec": {
   "display_name": "Python 3 (ipykernel)",
   "language": "python",
   "name": "python3"
  },
  "language_info": {
   "codemirror_mode": {
    "name": "ipython",
    "version": 3
   },
   "file_extension": ".py",
   "mimetype": "text/x-python",
   "name": "python",
   "nbconvert_exporter": "python",
   "pygments_lexer": "ipython3",
   "version": "3.12.4"
  }
 },
 "nbformat": 4,
 "nbformat_minor": 5
}
